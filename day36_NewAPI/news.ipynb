{
 "cells": [
  {
   "cell_type": "code",
   "execution_count": 1,
   "id": "dca276b0",
   "metadata": {},
   "outputs": [],
   "source": [
    "import os\n",
    "import requests"
   ]
  },
  {
   "cell_type": "code",
   "execution_count": 2,
   "id": "8c60b8ca",
   "metadata": {},
   "outputs": [],
   "source": [
    "STOCK_NAME = \"TSLA\"\n",
    "COMPANY_NAME = \"Tesla Inc\"\n",
    "\n",
    "STOCK_ENDPOINT = \"https://www.alphavantage.co/query\"\n",
    "NEWS_ENDPOINT = \"https://newsapi.org/v2/everything\""
   ]
  },
  {
   "cell_type": "code",
   "execution_count": 3,
   "id": "66b3eb58",
   "metadata": {},
   "outputs": [
    {
     "name": "stdout",
     "output_type": "stream",
     "text": [
      "346.4600\n",
      "358.4300\n"
     ]
    }
   ],
   "source": [
    "## STEP 1: Use https://www.alphavantage.co/documentation/#daily\n",
    "# When stock price increase/decreases by 5% between yesterday and the day before yesterday then print(\"Get News\").\n",
    "\n",
    "# 1. - Get yesterday's closing stock price. Hint: You can perform list comprehensions on Python dictionaries. e.g. [new_value for (key, value) in dictionary.items()]\n",
    "stock_params ={\n",
    "    \"function\":\"TIME_SERIES_DAILY\",\n",
    "    \"symbol\": STOCK_NAME,\n",
    "    \"apikey\": os.environ.get('ALPHA_API_KEY'),\n",
    "}\n",
    "\n",
    "r = requests.get(STOCK_ENDPOINT, params=stock_params)\n",
    "# print(r.status_code)\n",
    "\n",
    "data = r.json()['Time Series (Daily)']\n",
    "# print(data)\n",
    "data_list = [value for (key,value) in data.items()]\n",
    "data_list\n",
    "yesterday_data = data_list[0]\n",
    "yesterday_closing_price = yesterday_data['4. close']\n",
    "print(yesterday_closing_price)\n",
    "\n",
    "#TODO 2. - Get the day before yesterday's closing stock price\n",
    "\n",
    "day_before_yesterday_data = data_list[1]\n",
    "day_before_yesterday_data_price = day_before_yesterday_data['4. close']\n",
    "print(day_before_yesterday_data_price)"
   ]
  },
  {
   "cell_type": "code",
   "execution_count": 22,
   "id": "abef20db",
   "metadata": {},
   "outputs": [
    {
     "name": "stdout",
     "output_type": "stream",
     "text": [
      "200\n",
      "3.34\n"
     ]
    }
   ],
   "source": [
    "# NEWS_API_KEY = \"46bb0997171044bf8308680457b0c5ab\"\n",
    "#TODO 3. - Find the positive difference between 1 and 2. e.g. 40 - 20 = -20, but the positive difference is 20. Hint: https://www.w3schools.com/python/ref_func_abs.asp\n",
    "#TODO 4. - Work out the percentage difference in price between closing price yesterday and closing price the day before yesterday.\n",
    "difference = round((float(yesterday_closing_price)-float(day_before_yesterday_data_price))/float(day_before_yesterday_data_price)*100,2)\n",
    "difference\n",
    "\n",
    "news_parameters = {\n",
    "    'apiKey': os.environ.get('NEWS_API_KEY'),\n",
    "    'qInTitle': COMPANY_NAME,\n",
    "}\n",
    "#TODO 5. - If TODO4 percentage is greater than 5 then print(\"Get News\").\n",
    "if difference > 2:\n",
    "    # print(f\"{STOCK_NAME} change {difference} %: Get News\")\n",
    "    up_down = \"🔺\"\n",
    "    difference = abs(difference)\n",
    "else:\n",
    "    up_down = \"🔻\"\n",
    "    difference = abs(difference)\n",
    "\n",
    "\n",
    "news_response = requests.get(NEWS_ENDPOINT, params=news_parameters)\n",
    "print(news_response.status_code)\n",
    "articles = news_response.json()['articles']\n",
    "articles\n",
    "## STEP 2: https://newsapi.org/ \n",
    "# Instead of printing (\"Get News\"), actually get the first 3 news pieces for the COMPANY_NAME. \n",
    "\n",
    "#TODO 6. - Instead of printing (\"Get News\"), use the News API to get articles related to the COMPANY_NAME.\n",
    "\n",
    "\n",
    "\n",
    "#TODO 7. - Use Python slice operator to create a list that contains the first 3 articles. Hint: https://stackoverflow.com/questions/509211/understanding-slice-notation\n",
    "three_articles = articles[:3]\n"
   ]
  },
  {
   "cell_type": "code",
   "execution_count": 38,
   "id": "672c8232",
   "metadata": {},
   "outputs": [
    {
     "name": "stdout",
     "output_type": "stream",
     "text": [
      "TSLA 🔻 3.34% Headline: Tesla, Inc. (NASDAQ:TSLA) Is A Technology Company, Believes Jim Cramer.\n",
      "Brief: We recently published a list of Jim Cramer Shares Thoughts On Big Tech As Part Of These 12 Stocks. In this article, we are going to take a look at where...\n",
      "TSLA 🔻 3.34% Headline: Was Jim Cramer Right About Tesla, Inc. (TSLA)?.\n",
      "Brief: None\n",
      "TSLA 🔻 3.34% Headline: Tesla, Inc. (TSLA): China FSD Potential Key to Future Valuation.\n",
      "Brief: None\n"
     ]
    },
    {
     "data": {
      "text/plain": [
       "'\\nTSLA: 🔺2%\\nHeadline: Were Hedge Funds Right About Piling Into Tesla Inc. (TSLA)?. \\nBrief: We at Insider Monkey have gone over 821 13F filings that hedge funds and prominent investors are required to file by the SEC The 13F filings show the funds\\' and investors\\' portfolio positions as of March 31st, near the height of the coronavirus market crash.\\nor\\n\"TSLA: 🔻5%\\nHeadline: Were Hedge Funds Right About Piling Into Tesla Inc. (TSLA)?. \\nBrief: We at Insider Monkey have gone over 821 13F filings that hedge funds and prominent investors are required to file by the SEC The 13F filings show the funds\\' and investors\\' portfolio positions as of March 31st, near the height of the coronavirus market crash.\\n'"
      ]
     },
     "execution_count": 38,
     "metadata": {},
     "output_type": "execute_result"
    }
   ],
   "source": [
    "## STEP 3: Use twilio.com/docs/sms/quickstart/python\n",
    "#to send a separate message with each article's title and description to your phone number. \n",
    "\n",
    "#TODO 8. - Create a new list of the first 3 article's headline and description using list comprehension.\n",
    "\n",
    "format_articles = [f\"{STOCK_NAME} {up_down} {difference}% Headline: {article['title']}.\\nBrief: {article['description']}\"for article in three_articles]\n",
    "\n",
    "#TODO 9. - Send each article as a separate message via Twilio. \n",
    "for article in format_articles:\n",
    "    print(article)\n",
    "\n",
    "\n",
    "\n",
    "#Optional TODO: Format the message like this: \n",
    "\"\"\"\n",
    "TSLA: 🔺2%\n",
    "Headline: Were Hedge Funds Right About Piling Into Tesla Inc. (TSLA)?. \n",
    "Brief: We at Insider Monkey have gone over 821 13F filings that hedge funds and prominent investors are required to file by the SEC The 13F filings show the funds' and investors' portfolio positions as of March 31st, near the height of the coronavirus market crash.\n",
    "or\n",
    "\"TSLA: 🔻5%\n",
    "Headline: Were Hedge Funds Right About Piling Into Tesla Inc. (TSLA)?. \n",
    "Brief: We at Insider Monkey have gone over 821 13F filings that hedge funds and prominent investors are required to file by the SEC The 13F filings show the funds' and investors' portfolio positions as of March 31st, near the height of the coronavirus market crash.\n",
    "\"\"\"\n",
    "\n"
   ]
  }
 ],
 "metadata": {
  "kernelspec": {
   "display_name": "scrap",
   "language": "python",
   "name": "python3"
  },
  "language_info": {
   "codemirror_mode": {
    "name": "ipython",
    "version": 3
   },
   "file_extension": ".py",
   "mimetype": "text/x-python",
   "name": "python",
   "nbconvert_exporter": "python",
   "pygments_lexer": "ipython3",
   "version": "3.10.16"
  }
 },
 "nbformat": 4,
 "nbformat_minor": 5
}
