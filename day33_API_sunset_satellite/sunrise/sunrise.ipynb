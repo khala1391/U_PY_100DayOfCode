{
 "cells": [
  {
   "cell_type": "code",
   "execution_count": 1,
   "id": "fe251e70",
   "metadata": {},
   "outputs": [],
   "source": [
    "import requests\n",
    "from datetime import datetime\n",
    "import json"
   ]
  },
  {
   "cell_type": "code",
   "execution_count": 4,
   "id": "3a917e8f",
   "metadata": {},
   "outputs": [],
   "source": [
    "MY_LAT = -178.0090\n",
    "MY_LNG = -46.9925"
   ]
  },
  {
   "cell_type": "code",
   "execution_count": 2,
   "id": "568aa7bc",
   "metadata": {},
   "outputs": [
    {
     "name": "stdout",
     "output_type": "stream",
     "text": [
      "2025-05-31 20:41:07.377041\n"
     ]
    }
   ],
   "source": [
    "print(datetime.now())"
   ]
  },
  {
   "cell_type": "code",
   "execution_count": 29,
   "id": "957cbde8",
   "metadata": {},
   "outputs": [],
   "source": [
    "parameters = {\n",
    "    \"lat\": MY_LAT,\n",
    "    \"lng\": MY_LNG,\n",
    "    \"formatted\":0, \n",
    "    }\n"
   ]
  },
  {
   "cell_type": "code",
   "execution_count": 30,
   "id": "14a105ab",
   "metadata": {},
   "outputs": [
    {
     "name": "stdout",
     "output_type": "stream",
     "text": [
      "<class 'dict'>\n",
      "{\n",
      "    \"results\": {\n",
      "        \"sunrise\": \"2025-05-31T09:07:15+00:00\",\n",
      "        \"sunset\": \"2025-05-31T21:04:13+00:00\",\n",
      "        \"solar_noon\": \"2025-05-31T15:05:44+00:00\",\n",
      "        \"day_length\": 43018,\n",
      "        \"civil_twilight_begin\": \"2025-05-31T09:28:24+00:00\",\n",
      "        \"civil_twilight_end\": \"2025-05-31T20:43:04+00:00\",\n",
      "        \"nautical_twilight_begin\": \"2025-05-31T09:54:18+00:00\",\n",
      "        \"nautical_twilight_end\": \"2025-05-31T20:17:10+00:00\",\n",
      "        \"astronomical_twilight_begin\": \"2025-05-31T10:20:15+00:00\",\n",
      "        \"astronomical_twilight_end\": \"2025-05-31T19:51:13+00:00\"\n",
      "    },\n",
      "    \"status\": \"OK\",\n",
      "    \"tzid\": \"UTC\"\n",
      "}\n"
     ]
    }
   ],
   "source": [
    "url = \"https://api.sunrise-sunset.org/json\"\n",
    "\n",
    "r = requests.get(url, params=parameters)\n",
    "data = r.json()\n",
    "\n",
    "print(type(data))\n",
    "print(json.dumps(data, indent=4))"
   ]
  },
  {
   "cell_type": "code",
   "execution_count": 35,
   "id": "89791434",
   "metadata": {},
   "outputs": [
    {
     "data": {
      "text/plain": [
       "'09:07:15'"
      ]
     },
     "execution_count": 35,
     "metadata": {},
     "output_type": "execute_result"
    }
   ],
   "source": [
    "data['results']['sunrise'].split('T')[1].split('+')[0]"
   ]
  },
  {
   "cell_type": "code",
   "execution_count": 36,
   "id": "0fce1170",
   "metadata": {},
   "outputs": [
    {
     "data": {
      "text/plain": [
       "'21:04:13'"
      ]
     },
     "execution_count": 36,
     "metadata": {},
     "output_type": "execute_result"
    }
   ],
   "source": [
    "data['results']['sunset'].split('T')[1].split('+')[0]"
   ]
  },
  {
   "cell_type": "code",
   "execution_count": 46,
   "id": "82ce2c70",
   "metadata": {},
   "outputs": [
    {
     "data": {
      "text/plain": [
       "(9, 21)"
      ]
     },
     "execution_count": 46,
     "metadata": {},
     "output_type": "execute_result"
    }
   ],
   "source": [
    "sunrise = int(data['results']['sunrise'].split('T')[1].split(':')[0])\n",
    "sunset = int(data['results']['sunset'].split('T')[1].split(':')[0])\n",
    "sunrise,sunset"
   ]
  },
  {
   "cell_type": "code",
   "execution_count": 43,
   "id": "ced4db33",
   "metadata": {},
   "outputs": [
    {
     "data": {
      "text/plain": [
       "21"
      ]
     },
     "execution_count": 43,
     "metadata": {},
     "output_type": "execute_result"
    }
   ],
   "source": [
    "time_now = datetime.now().hour\n",
    "time_now"
   ]
  },
  {
   "cell_type": "code",
   "execution_count": 54,
   "id": "d8eb1ea8",
   "metadata": {},
   "outputs": [
    {
     "name": "stdout",
     "output_type": "stream",
     "text": [
      "True\n"
     ]
    }
   ],
   "source": [
    "# if time_now >= sunset or time_now <= sunrise:\n",
    "#     return True\n",
    "if time_now >= sunset or time_now <= sunrise:\n",
    "    print(True)"
   ]
  },
  {
   "cell_type": "code",
   "execution_count": null,
   "id": "3739baa5",
   "metadata": {},
   "outputs": [],
   "source": []
  }
 ],
 "metadata": {
  "kernelspec": {
   "display_name": "base",
   "language": "python",
   "name": "python3"
  },
  "language_info": {
   "codemirror_mode": {
    "name": "ipython",
    "version": 3
   },
   "file_extension": ".py",
   "mimetype": "text/x-python",
   "name": "python",
   "nbconvert_exporter": "python",
   "pygments_lexer": "ipython3",
   "version": "3.12.3"
  }
 },
 "nbformat": 4,
 "nbformat_minor": 5
}
