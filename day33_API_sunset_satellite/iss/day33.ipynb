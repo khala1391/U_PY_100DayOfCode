{
 "cells": [
  {
   "cell_type": "code",
   "execution_count": 1,
   "id": "e27b179a",
   "metadata": {},
   "outputs": [],
   "source": [
    "import requests\n",
    "\n",
    "url = \"http://api.open-notify.org/iss-now.json\"\n",
    "response = requests.get(url=url)"
   ]
  },
  {
   "cell_type": "code",
   "execution_count": 6,
   "id": "f4042b39",
   "metadata": {},
   "outputs": [
    {
     "name": "stdout",
     "output_type": "stream",
     "text": [
      "<Response [200]>\n",
      "200\n",
      "application/json\n",
      "{\"iss_position\": {\"longitude\": \"-178.0090\", \"latitude\": \"-46.9925\"}, \"timestamp\": 1748696733, \"message\": \"success\"}\n",
      "{'iss_position': {'longitude': '-178.0090', 'latitude': '-46.9925'}, 'timestamp': 1748696733, 'message': 'success'}\n"
     ]
    },
    {
     "data": {
      "text/plain": [
       "dict"
      ]
     },
     "execution_count": 6,
     "metadata": {},
     "output_type": "execute_result"
    }
   ],
   "source": [
    "print(response)\n",
    "print(response.status_code)\n",
    "print(response.headers['content-type'])\n",
    "print(response.text)\n",
    "print(response.json())\n",
    "data =response.json()\n",
    "\n",
    "type(data)"
   ]
  },
  {
   "cell_type": "code",
   "execution_count": 7,
   "id": "80d75462",
   "metadata": {},
   "outputs": [
    {
     "name": "stdout",
     "output_type": "stream",
     "text": [
      "{\n",
      "    \"iss_position\": {\n",
      "        \"longitude\": \"-178.0090\",\n",
      "        \"latitude\": \"-46.9925\"\n",
      "    },\n",
      "    \"timestamp\": 1748696733,\n",
      "    \"message\": \"success\"\n",
      "}\n"
     ]
    }
   ],
   "source": [
    "import json\n",
    "\n",
    "print(json.dumps(data, indent=4))"
   ]
  },
  {
   "cell_type": "code",
   "execution_count": 10,
   "id": "e5b63cef",
   "metadata": {},
   "outputs": [
    {
     "data": {
      "text/plain": [
       "{'longitude': '-178.0090', 'latitude': '-46.9925'}"
      ]
     },
     "execution_count": 10,
     "metadata": {},
     "output_type": "execute_result"
    }
   ],
   "source": [
    "data['iss_position']"
   ]
  },
  {
   "cell_type": "code",
   "execution_count": 11,
   "id": "acebf7ee",
   "metadata": {},
   "outputs": [
    {
     "data": {
      "text/plain": [
       "'-178.0090'"
      ]
     },
     "execution_count": 11,
     "metadata": {},
     "output_type": "execute_result"
    }
   ],
   "source": [
    "data['iss_position']['longitude']"
   ]
  },
  {
   "cell_type": "code",
   "execution_count": null,
   "id": "f6cd9fd4",
   "metadata": {},
   "outputs": [],
   "source": [
    "response.status_code == requests.codes.ok\n",
    "response.raise_for_status()"
   ]
  }
 ],
 "metadata": {
  "kernelspec": {
   "display_name": "base",
   "language": "python",
   "name": "python3"
  },
  "language_info": {
   "codemirror_mode": {
    "name": "ipython",
    "version": 3
   },
   "file_extension": ".py",
   "mimetype": "text/x-python",
   "name": "python",
   "nbconvert_exporter": "python",
   "pygments_lexer": "ipython3",
   "version": "3.12.3"
  }
 },
 "nbformat": 4,
 "nbformat_minor": 5
}
