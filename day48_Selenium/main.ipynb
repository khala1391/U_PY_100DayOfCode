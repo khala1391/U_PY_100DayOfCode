{
 "cells": [
  {
   "cell_type": "code",
   "execution_count": null,
   "id": "5dead9e9",
   "metadata": {},
   "outputs": [],
   "source": [
    "from selenium import webdriver\n",
    "from selenium.webdriver.common.by import By\n",
    "from selenium.webdriver.chrome.options import Options\n",
    "import time"
   ]
  },
  {
   "cell_type": "code",
   "execution_count": null,
   "id": "1c8d8990",
   "metadata": {},
   "outputs": [],
   "source": [
    "# chrome_options = webdriver.ChromeOptions()\n",
    "# chrome_options.add_experimental_option(\"detach\", \"True\")"
   ]
  },
  {
   "cell_type": "code",
   "execution_count": null,
   "id": "f8ea807c",
   "metadata": {},
   "outputs": [],
   "source": [
    "# driver = webdriver.Chrome()\n",
    "# url = 'http://www.soccersuck.com'\n",
    "# driver.get(url)\n",
    "# import time\n",
    "# time.sleep(3)\n",
    "\n",
    "# driver.close()\n",
    "# driver.quit()"
   ]
  },
  {
   "cell_type": "code",
   "execution_count": 10,
   "id": "b0e40651",
   "metadata": {},
   "outputs": [],
   "source": [
    "chrome_options = webdriver.ChromeOptions()\n",
    "chrome_options.add_experimental_option(\"detach\", True)\n",
    "driver = webdriver.Chrome()\n",
    "url = 'https://www.selenium.dev/selenium/web/web-form.html'\n",
    "driver.get(url)"
   ]
  },
  {
   "cell_type": "code",
   "execution_count": 11,
   "id": "7e0f4d1b",
   "metadata": {},
   "outputs": [],
   "source": [
    "url2= 'https://pypi.org/project/jupyterlab/'\n",
    "driver.get(url2)"
   ]
  },
  {
   "cell_type": "code",
   "execution_count": 12,
   "id": "a64191db",
   "metadata": {},
   "outputs": [
    {
     "name": "stdout",
     "output_type": "stream",
     "text": [
      "Web form\n"
     ]
    }
   ],
   "source": [
    "driver.back()\n",
    "print(driver.title)"
   ]
  },
  {
   "cell_type": "code",
   "execution_count": 13,
   "id": "f10b2b0c",
   "metadata": {},
   "outputs": [
    {
     "name": "stdout",
     "output_type": "stream",
     "text": [
      "jupyterlab · PyPI\n"
     ]
    }
   ],
   "source": [
    "driver.forward()\n",
    "print(driver.title)"
   ]
  },
  {
   "cell_type": "code",
   "execution_count": null,
   "id": "c4f723db",
   "metadata": {},
   "outputs": [],
   "source": [
    "driver.refresh()"
   ]
  },
  {
   "cell_type": "code",
   "execution_count": 15,
   "id": "603a4512",
   "metadata": {},
   "outputs": [],
   "source": [
    "driver.get(url)"
   ]
  },
  {
   "cell_type": "code",
   "execution_count": 28,
   "id": "619d1f54",
   "metadata": {},
   "outputs": [
    {
     "ename": "InvalidSessionIdException",
     "evalue": "Message: invalid session id: session deleted as the browser has closed the connection\nfrom disconnected: not connected to DevTools\n  (Session info: chrome=137.0.7151.69)\nStacktrace:\n\tGetHandleVerifier [0x0x7ff6c170fea5+79173]\n\tGetHandleVerifier [0x0x7ff6c170ff00+79264]\n\t(No symbol) [0x0x7ff6c14c9e5a]\n\t(No symbol) [0x0x7ff6c14b5c25]\n\t(No symbol) [0x0x7ff6c14dac44]\n\t(No symbol) [0x0x7ff6c15503c5]\n\t(No symbol) [0x0x7ff6c1570922]\n\t(No symbol) [0x0x7ff6c1548743]\n\t(No symbol) [0x0x7ff6c15114c1]\n\t(No symbol) [0x0x7ff6c1512253]\n\tGetHandleVerifier [0x0x7ff6c19da2dd+3004797]\n\tGetHandleVerifier [0x0x7ff6c19d472d+2981325]\n\tGetHandleVerifier [0x0x7ff6c19f3380+3107360]\n\tGetHandleVerifier [0x0x7ff6c172aa2e+188622]\n\tGetHandleVerifier [0x0x7ff6c17322bf+219487]\n\tGetHandleVerifier [0x0x7ff6c1718df4+115860]\n\tGetHandleVerifier [0x0x7ff6c1718fa9+116297]\n\tGetHandleVerifier [0x0x7ff6c16ff558+11256]\n\tBaseThreadInitThunk [0x0x7ffc0373e8d7+23]\n\tRtlUserThreadStart [0x0x7ffc045fc34c+44]\n",
     "output_type": "error",
     "traceback": [
      "\u001b[1;31m---------------------------------------------------------------------------\u001b[0m",
      "\u001b[1;31mInvalidSessionIdException\u001b[0m                 Traceback (most recent call last)",
      "Cell \u001b[1;32mIn[28], line 12\u001b[0m\n\u001b[0;32m     10\u001b[0m element2 \u001b[38;5;241m=\u001b[39m driver\u001b[38;5;241m.\u001b[39mfind_element(By\u001b[38;5;241m.\u001b[39mXPATH, \u001b[38;5;124m'\u001b[39m\u001b[38;5;124m/html/body/main/div/form/div/div[2]/label[2]/input\u001b[39m\u001b[38;5;124m'\u001b[39m)\u001b[38;5;241m.\u001b[39mclick()\n\u001b[0;32m     11\u001b[0m time\u001b[38;5;241m.\u001b[39msleep(\u001b[38;5;241m4\u001b[39m)\n\u001b[1;32m---> 12\u001b[0m element3 \u001b[38;5;241m=\u001b[39m \u001b[43mdriver\u001b[49m\u001b[38;5;241;43m.\u001b[39;49m\u001b[43mfind_element\u001b[49m\u001b[43m(\u001b[49m\u001b[43mBy\u001b[49m\u001b[38;5;241;43m.\u001b[39;49m\u001b[43mXPATH\u001b[49m\u001b[43m,\u001b[49m\u001b[43m \u001b[49m\u001b[38;5;124;43m'\u001b[39;49m\u001b[38;5;124;43m/html/body/main/div/form/div/div[2]/button\u001b[39;49m\u001b[38;5;124;43m'\u001b[39;49m\u001b[43m)\u001b[49m\u001b[38;5;241m.\u001b[39mclick()\n",
      "File \u001b[1;32mc:\\Users\\khala\\anaconda3\\envs\\scrap\\lib\\site-packages\\selenium\\webdriver\\remote\\webdriver.py:914\u001b[0m, in \u001b[0;36mWebDriver.find_element\u001b[1;34m(self, by, value)\u001b[0m\n\u001b[0;32m    911\u001b[0m         \u001b[38;5;28;01mraise\u001b[39;00m NoSuchElementException(\u001b[38;5;124mf\u001b[39m\u001b[38;5;124m\"\u001b[39m\u001b[38;5;124mCannot locate relative element with: \u001b[39m\u001b[38;5;132;01m{\u001b[39;00mby\u001b[38;5;241m.\u001b[39mroot\u001b[38;5;132;01m}\u001b[39;00m\u001b[38;5;124m\"\u001b[39m)\n\u001b[0;32m    912\u001b[0m     \u001b[38;5;28;01mreturn\u001b[39;00m elements[\u001b[38;5;241m0\u001b[39m]\n\u001b[1;32m--> 914\u001b[0m \u001b[38;5;28;01mreturn\u001b[39;00m \u001b[38;5;28;43mself\u001b[39;49m\u001b[38;5;241;43m.\u001b[39;49m\u001b[43mexecute\u001b[49m\u001b[43m(\u001b[49m\u001b[43mCommand\u001b[49m\u001b[38;5;241;43m.\u001b[39;49m\u001b[43mFIND_ELEMENT\u001b[49m\u001b[43m,\u001b[49m\u001b[43m \u001b[49m\u001b[43m{\u001b[49m\u001b[38;5;124;43m\"\u001b[39;49m\u001b[38;5;124;43musing\u001b[39;49m\u001b[38;5;124;43m\"\u001b[39;49m\u001b[43m:\u001b[49m\u001b[43m \u001b[49m\u001b[43mby\u001b[49m\u001b[43m,\u001b[49m\u001b[43m \u001b[49m\u001b[38;5;124;43m\"\u001b[39;49m\u001b[38;5;124;43mvalue\u001b[39;49m\u001b[38;5;124;43m\"\u001b[39;49m\u001b[43m:\u001b[49m\u001b[43m \u001b[49m\u001b[43mvalue\u001b[49m\u001b[43m}\u001b[49m\u001b[43m)\u001b[49m[\u001b[38;5;124m\"\u001b[39m\u001b[38;5;124mvalue\u001b[39m\u001b[38;5;124m\"\u001b[39m]\n",
      "File \u001b[1;32mc:\\Users\\khala\\anaconda3\\envs\\scrap\\lib\\site-packages\\selenium\\webdriver\\remote\\webdriver.py:447\u001b[0m, in \u001b[0;36mWebDriver.execute\u001b[1;34m(self, driver_command, params)\u001b[0m\n\u001b[0;32m    445\u001b[0m response \u001b[38;5;241m=\u001b[39m \u001b[38;5;28mself\u001b[39m\u001b[38;5;241m.\u001b[39mcommand_executor\u001b[38;5;241m.\u001b[39mexecute(driver_command, params)\n\u001b[0;32m    446\u001b[0m \u001b[38;5;28;01mif\u001b[39;00m response:\n\u001b[1;32m--> 447\u001b[0m     \u001b[38;5;28;43mself\u001b[39;49m\u001b[38;5;241;43m.\u001b[39;49m\u001b[43merror_handler\u001b[49m\u001b[38;5;241;43m.\u001b[39;49m\u001b[43mcheck_response\u001b[49m\u001b[43m(\u001b[49m\u001b[43mresponse\u001b[49m\u001b[43m)\u001b[49m\n\u001b[0;32m    448\u001b[0m     response[\u001b[38;5;124m\"\u001b[39m\u001b[38;5;124mvalue\u001b[39m\u001b[38;5;124m\"\u001b[39m] \u001b[38;5;241m=\u001b[39m \u001b[38;5;28mself\u001b[39m\u001b[38;5;241m.\u001b[39m_unwrap_value(response\u001b[38;5;241m.\u001b[39mget(\u001b[38;5;124m\"\u001b[39m\u001b[38;5;124mvalue\u001b[39m\u001b[38;5;124m\"\u001b[39m, \u001b[38;5;28;01mNone\u001b[39;00m))\n\u001b[0;32m    449\u001b[0m     \u001b[38;5;28;01mreturn\u001b[39;00m response\n",
      "File \u001b[1;32mc:\\Users\\khala\\anaconda3\\envs\\scrap\\lib\\site-packages\\selenium\\webdriver\\remote\\errorhandler.py:232\u001b[0m, in \u001b[0;36mErrorHandler.check_response\u001b[1;34m(self, response)\u001b[0m\n\u001b[0;32m    230\u001b[0m         alert_text \u001b[38;5;241m=\u001b[39m value[\u001b[38;5;124m\"\u001b[39m\u001b[38;5;124malert\u001b[39m\u001b[38;5;124m\"\u001b[39m]\u001b[38;5;241m.\u001b[39mget(\u001b[38;5;124m\"\u001b[39m\u001b[38;5;124mtext\u001b[39m\u001b[38;5;124m\"\u001b[39m)\n\u001b[0;32m    231\u001b[0m     \u001b[38;5;28;01mraise\u001b[39;00m exception_class(message, screen, stacktrace, alert_text)  \u001b[38;5;66;03m# type: ignore[call-arg]  # mypy is not smart enough here\u001b[39;00m\n\u001b[1;32m--> 232\u001b[0m \u001b[38;5;28;01mraise\u001b[39;00m exception_class(message, screen, stacktrace)\n",
      "\u001b[1;31mInvalidSessionIdException\u001b[0m: Message: invalid session id: session deleted as the browser has closed the connection\nfrom disconnected: not connected to DevTools\n  (Session info: chrome=137.0.7151.69)\nStacktrace:\n\tGetHandleVerifier [0x0x7ff6c170fea5+79173]\n\tGetHandleVerifier [0x0x7ff6c170ff00+79264]\n\t(No symbol) [0x0x7ff6c14c9e5a]\n\t(No symbol) [0x0x7ff6c14b5c25]\n\t(No symbol) [0x0x7ff6c14dac44]\n\t(No symbol) [0x0x7ff6c15503c5]\n\t(No symbol) [0x0x7ff6c1570922]\n\t(No symbol) [0x0x7ff6c1548743]\n\t(No symbol) [0x0x7ff6c15114c1]\n\t(No symbol) [0x0x7ff6c1512253]\n\tGetHandleVerifier [0x0x7ff6c19da2dd+3004797]\n\tGetHandleVerifier [0x0x7ff6c19d472d+2981325]\n\tGetHandleVerifier [0x0x7ff6c19f3380+3107360]\n\tGetHandleVerifier [0x0x7ff6c172aa2e+188622]\n\tGetHandleVerifier [0x0x7ff6c17322bf+219487]\n\tGetHandleVerifier [0x0x7ff6c1718df4+115860]\n\tGetHandleVerifier [0x0x7ff6c1718fa9+116297]\n\tGetHandleVerifier [0x0x7ff6c16ff558+11256]\n\tBaseThreadInitThunk [0x0x7ffc0373e8d7+23]\n\tRtlUserThreadStart [0x0x7ffc045fc34c+44]\n"
     ]
    }
   ],
   "source": [
    "element = driver.find_element(by=By.ID, value=\"my-text-id\")\n",
    "element.click()\n",
    "email = \"admin@localhost.dev\"\n",
    "element.send_keys(email)\n",
    "time.sleep(4)\n",
    "# element2 = driver.find_element(By.CLASS_NAME, \"form-control\").click()\n",
    "# element3 = driver.find_element(By.TAG_NAME, 'label').click()\n",
    "# element4 = driver.find_element(By.LINK_TEXT, 'Return to index').click()\n",
    "# element5 = driver.find_element(By.XPATH,'/html/body/main/div/form/div/div[1]/label[2]/input').click()\n",
    "element2 = driver.find_element(By.XPATH, '/html/body/main/div/form/div/div[2]/label[2]/input').click()\n",
    "time.sleep(4)\n",
    "element3 = driver.find_element(By.XPATH, '/html/body/main/div/form/div/div[2]/button').click()"
   ]
  },
  {
   "cell_type": "code",
   "execution_count": null,
   "id": "234371d2",
   "metadata": {},
   "outputs": [],
   "source": []
  }
 ],
 "metadata": {
  "kernelspec": {
   "display_name": "scrap",
   "language": "python",
   "name": "python3"
  },
  "language_info": {
   "codemirror_mode": {
    "name": "ipython",
    "version": 3
   },
   "file_extension": ".py",
   "mimetype": "text/x-python",
   "name": "python",
   "nbconvert_exporter": "python",
   "pygments_lexer": "ipython3",
   "version": "3.10.16"
  }
 },
 "nbformat": 4,
 "nbformat_minor": 5
}
