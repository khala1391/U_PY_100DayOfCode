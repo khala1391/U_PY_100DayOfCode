{
 "cells": [
  {
   "cell_type": "code",
   "execution_count": null,
   "id": "5dead9e9",
   "metadata": {},
   "outputs": [],
   "source": [
    "from selenium import webdriver\n",
    "from selenium.webdriver.common.by import By\n",
    "from selenium.webdriver.chrome.options import Options\n",
    "import time"
   ]
  },
  {
   "cell_type": "code",
   "execution_count": null,
   "id": "1c8d8990",
   "metadata": {},
   "outputs": [],
   "source": [
    "# chrome_options = webdriver.ChromeOptions()\n",
    "# chrome_options.add_experimental_option(\"detach\", \"True\")"
   ]
  },
  {
   "cell_type": "code",
   "execution_count": null,
   "id": "f8ea807c",
   "metadata": {},
   "outputs": [],
   "source": [
    "# driver = webdriver.Chrome()\n",
    "# url = 'http://www.soccersuck.com'\n",
    "# driver.get(url)\n",
    "# import time\n",
    "# time.sleep(3)\n",
    "\n",
    "# driver.close()\n",
    "# driver.quit()"
   ]
  },
  {
   "cell_type": "code",
   "execution_count": 10,
   "id": "b0e40651",
   "metadata": {},
   "outputs": [],
   "source": [
    "chrome_options = webdriver.ChromeOptions()\n",
    "chrome_options.add_experimental_option(\"detach\", True)\n",
    "driver = webdriver.Chrome()\n",
    "url = 'https://www.selenium.dev/selenium/web/web-form.html'\n",
    "driver.get(url)"
   ]
  },
  {
   "cell_type": "code",
   "execution_count": 11,
   "id": "7e0f4d1b",
   "metadata": {},
   "outputs": [],
   "source": [
    "url2= 'https://pypi.org/project/jupyterlab/'\n",
    "driver.get(url2)"
   ]
  },
  {
   "cell_type": "code",
   "execution_count": 12,
   "id": "a64191db",
   "metadata": {},
   "outputs": [
    {
     "name": "stdout",
     "output_type": "stream",
     "text": [
      "Web form\n"
     ]
    }
   ],
   "source": [
    "driver.back()\n",
    "print(driver.title)"
   ]
  },
  {
   "cell_type": "code",
   "execution_count": 13,
   "id": "f10b2b0c",
   "metadata": {},
   "outputs": [
    {
     "name": "stdout",
     "output_type": "stream",
     "text": [
      "jupyterlab · PyPI\n"
     ]
    }
   ],
   "source": [
    "driver.forward()\n",
    "print(driver.title)"
   ]
  },
  {
   "cell_type": "code",
   "execution_count": null,
   "id": "c4f723db",
   "metadata": {},
   "outputs": [],
   "source": [
    "driver.refresh()"
   ]
  },
  {
   "cell_type": "code",
   "execution_count": 15,
   "id": "603a4512",
   "metadata": {},
   "outputs": [],
   "source": [
    "driver.get(url)"
   ]
  },
  {
   "cell_type": "code",
   "execution_count": null,
   "id": "619d1f54",
   "metadata": {},
   "outputs": [],
   "source": [
    "element = driver.find_element(by=By.ID, value=\"my-text-id\")\n",
    "element.click()\n",
    "email = \"admin@localhost.dev\"\n",
    "element.send_keys(email)\n",
    "time.sleep(4)\n",
    "# element2 = driver.find_element(By.CLASS_NAME, \"form-control\").click()\n",
    "# element3 = driver.find_element(By.TAG_NAME, 'label').click()\n",
    "# element4 = driver.find_element(By.LINK_TEXT, 'Return to index').click()\n",
    "# element5 = driver.find_element(By.XPATH,'/html/body/main/div/form/div/div[1]/label[2]/input').click()\n",
    "element2 = driver.find_element(By.XPATH, '/html/body/main/div/form/div/div[2]/label[2]/input').click()\n",
    "time.sleep(4)\n",
    "element3 = driver.find_element(By.XPATH, '/html/body/main/div/form/div/div[2]/button').click()"
   ]
  }
 ],
 "metadata": {
  "kernelspec": {
   "display_name": "scrap",
   "language": "python",
   "name": "python3"
  },
  "language_info": {
   "codemirror_mode": {
    "name": "ipython",
    "version": 3
   },
   "file_extension": ".py",
   "mimetype": "text/x-python",
   "name": "python",
   "nbconvert_exporter": "python",
   "pygments_lexer": "ipython3",
   "version": "3.10.16"
  }
 },
 "nbformat": 4,
 "nbformat_minor": 5
}
