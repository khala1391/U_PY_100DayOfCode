{
 "cells": [
  {
   "cell_type": "code",
   "execution_count": 29,
   "id": "355c65f3",
   "metadata": {},
   "outputs": [],
   "source": [
    "import os\n",
    "import requests"
   ]
  },
  {
   "cell_type": "code",
   "execution_count": 30,
   "id": "9168b2b4",
   "metadata": {},
   "outputs": [],
   "source": [
    "USERNAME = \"khala1391\"\n",
    "pixela_endpont = 'https://pixe.la/v1/users'"
   ]
  },
  {
   "cell_type": "code",
   "execution_count": null,
   "id": "eb627d7f",
   "metadata": {},
   "outputs": [],
   "source": [
    "user_params ={\n",
    "    \"token\": os.environ.get(\"PIXELA_API_KEY\"),\n",
    "    \"username\": USERNAME, \n",
    "    \"agreeTermsOfService\":\"yes\", \n",
    "    \"notMinor\":\"yes\"}\n"
   ]
  },
  {
   "cell_type": "markdown",
   "id": "d2051391",
   "metadata": {},
   "source": [
    "## create username"
   ]
  },
  {
   "cell_type": "code",
   "execution_count": null,
   "id": "9a680998",
   "metadata": {},
   "outputs": [],
   "source": [
    "# response = requests.post(pixela_endpont, json=user_params)\n",
    "# print(response.text)"
   ]
  },
  {
   "cell_type": "markdown",
   "id": "dc6c09e3",
   "metadata": {},
   "source": [
    "## create graph"
   ]
  },
  {
   "cell_type": "code",
   "execution_count": null,
   "id": "03829f0f",
   "metadata": {},
   "outputs": [],
   "source": [
    "graph_endpoint = f\"{pixela_endpont}/{USERNAME}/graphs\"\n",
    "\n",
    "user_params = {\"id\":\"graph001\",\n",
    "               \"name\":\"coding_tracking\",\n",
    "               \"unit\":\"streak\",\n",
    "               \"type\":\"int\",\n",
    "               \"color\":\"shibafu\"\n",
    "               }\n",
    "\n",
    "header ={\n",
    "    \"X-USER-TOKEN\": os.environ.get(\"PIXELA_API_KEY\"),\n",
    "}"
   ]
  },
  {
   "cell_type": "code",
   "execution_count": 23,
   "id": "068ab32e",
   "metadata": {},
   "outputs": [],
   "source": [
    "response = requests.post(graph_endpoint,json=user_params, headers=header)"
   ]
  },
  {
   "cell_type": "code",
   "execution_count": 24,
   "id": "6ab5fbe1",
   "metadata": {},
   "outputs": [
    {
     "data": {
      "text/plain": [
       "'{\"message\":\"Success.\",\"isSuccess\":true}'"
      ]
     },
     "execution_count": 24,
     "metadata": {},
     "output_type": "execute_result"
    }
   ],
   "source": [
    "response.text"
   ]
  },
  {
   "cell_type": "markdown",
   "id": "d42b43c7",
   "metadata": {},
   "source": [
    "## update Chart"
   ]
  },
  {
   "cell_type": "code",
   "execution_count": 25,
   "id": "b00b8fe5",
   "metadata": {},
   "outputs": [],
   "source": [
    "graph = 'graph001'"
   ]
  },
  {
   "cell_type": "code",
   "execution_count": 31,
   "id": "486fad98",
   "metadata": {},
   "outputs": [],
   "source": [
    "from datetime import datetime\n",
    "\n",
    "today = datetime.now()\n",
    "date_str = today.strftime(\"%Y%m%d\")\n",
    "\n",
    "date_str\n",
    "\n",
    "# POST - /v1/users/<username>/graphs/<graphID>\n",
    "# $ curl -X POST https://pixe.la/v1/users/a-know/graphs/test-graph -H \n",
    "# 'X-USER-TOKEN:thisissecret' -d '{\"date\":\"20180915\",\"quantity\":\"5\"}'\n",
    "\n",
    "chart_endpoint = f\"{pixela_endpont}/{USERNAME}/graphs/{graph}\"\n",
    "\n",
    "user_params ={\"date\":date_str,\n",
    "              \"quantity\":\"1\"}\n",
    "\n",
    "header ={\n",
    "    \"X-USER-TOKEN\": os.environ.get(\"PIXELA_API_KEY\"),\n",
    "}"
   ]
  },
  {
   "cell_type": "code",
   "execution_count": 33,
   "id": "8682d76a",
   "metadata": {},
   "outputs": [
    {
     "data": {
      "text/plain": [
       "'{\"message\":\"Success.\",\"isSuccess\":true}'"
      ]
     },
     "execution_count": 33,
     "metadata": {},
     "output_type": "execute_result"
    }
   ],
   "source": [
    "response = requests.post(chart_endpoint,json=user_params,headers=header)\n",
    "response.text"
   ]
  },
  {
   "cell_type": "markdown",
   "id": "4eb5947e",
   "metadata": {},
   "source": [
    "## Edit chart"
   ]
  },
  {
   "cell_type": "code",
   "execution_count": 39,
   "id": "0c04eac8",
   "metadata": {},
   "outputs": [],
   "source": [
    "# PUT - /v1/users/<username>/graphs/<graphID>\n",
    "\n",
    "chart_endpoint = f\"{pixela_endpont}/{USERNAME}/graphs/{graph}\"\n",
    "\n",
    "user_params ={\"unit\":\"hr\"}\n",
    "\n",
    "header ={\n",
    "    \"X-USER-TOKEN\": os.environ.get(\"PIXELA_API_KEY\"),\n",
    "}"
   ]
  },
  {
   "cell_type": "code",
   "execution_count": 41,
   "id": "217c478a",
   "metadata": {},
   "outputs": [
    {
     "data": {
      "text/plain": [
       "'{\"message\":\"Success.\",\"isSuccess\":true}'"
      ]
     },
     "execution_count": 41,
     "metadata": {},
     "output_type": "execute_result"
    }
   ],
   "source": [
    "response = requests.put(chart_endpoint,json=user_params,headers=header)\n",
    "response.text"
   ]
  },
  {
   "cell_type": "markdown",
   "id": "76621be5",
   "metadata": {},
   "source": [
    "## edit chart (edit pixel)"
   ]
  },
  {
   "cell_type": "code",
   "execution_count": null,
   "id": "33f3ac3c",
   "metadata": {},
   "outputs": [],
   "source": [
    "graph = 'graph001'"
   ]
  },
  {
   "cell_type": "code",
   "execution_count": 48,
   "id": "419889af",
   "metadata": {},
   "outputs": [],
   "source": [
    "from datetime import datetime\n",
    "\n",
    "today = datetime.now()\n",
    "date_str = today.strftime(\"%Y%m%d\")\n",
    "\n",
    "date_str\n",
    "\n",
    "# PUT - /v1/users/<username>/graphs/<graphID>/<yyyyMMdd>\n",
    "\n",
    "chart_endpoint = f\"{pixela_endpont}/{USERNAME}/graphs/{graph}/{date_str}\"\n",
    "\n",
    "user_params ={\"quantity\":\"10\"}\n",
    "\n",
    "header ={\n",
    "    \"X-USER-TOKEN\": os.environ.get(\"PIXELA_API_KEY\"),\n",
    "}"
   ]
  },
  {
   "cell_type": "code",
   "execution_count": 50,
   "id": "df4a4abe",
   "metadata": {},
   "outputs": [
    {
     "data": {
      "text/plain": [
       "'{\"message\":\"Success.\",\"isSuccess\":true}'"
      ]
     },
     "execution_count": 50,
     "metadata": {},
     "output_type": "execute_result"
    }
   ],
   "source": [
    "response = requests.put(chart_endpoint,json=user_params,headers=header)\n",
    "response.text"
   ]
  },
  {
   "cell_type": "code",
   "execution_count": null,
   "id": "d90945d3",
   "metadata": {},
   "outputs": [],
   "source": []
  }
 ],
 "metadata": {
  "kernelspec": {
   "display_name": "scrap",
   "language": "python",
   "name": "python3"
  },
  "language_info": {
   "codemirror_mode": {
    "name": "ipython",
    "version": 3
   },
   "file_extension": ".py",
   "mimetype": "text/x-python",
   "name": "python",
   "nbconvert_exporter": "python",
   "pygments_lexer": "ipython3",
   "version": "3.10.16"
  }
 },
 "nbformat": 4,
 "nbformat_minor": 5
}
