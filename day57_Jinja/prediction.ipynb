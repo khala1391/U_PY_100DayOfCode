{
 "cells": [
  {
   "cell_type": "code",
   "execution_count": 1,
   "id": "06d065c3",
   "metadata": {},
   "outputs": [],
   "source": [
    "import requests"
   ]
  },
  {
   "cell_type": "code",
   "execution_count": null,
   "id": "853a4fc4",
   "metadata": {},
   "outputs": [
    {
     "name": "stdout",
     "output_type": "stream",
     "text": [
      "{\"count\":539,\"name\":\"khala\",\"gender\":\"female\",\"probability\":0.69}\n",
      "female\n"
     ]
    }
   ],
   "source": [
    "path = \"https://api.genderize.io\"\n",
    "\n",
    "params ={\n",
    "    \"name\": \"khala\",\n",
    "}\n",
    "\n",
    "response =  requests.get(url=path,params=params)\n",
    "print(response.text)\n",
    "print(response.json()['gender'])"
   ]
  },
  {
   "cell_type": "code",
   "execution_count": null,
   "id": "cc2c17dc",
   "metadata": {},
   "outputs": [
    {
     "name": "stdout",
     "output_type": "stream",
     "text": [
      "{\"count\":36,\"name\":\"khala\",\"age\":52}\n"
     ]
    }
   ],
   "source": [
    "path = \"https://api.agify.io\"\n",
    "\n",
    "params ={\n",
    "    \"name\": \"khala\",\n",
    "}\n",
    "\n",
    "response =  requests.get(url=path,params=params)\n",
    "print(response.text)"
   ]
  }
 ],
 "metadata": {
  "kernelspec": {
   "display_name": "scrap",
   "language": "python",
   "name": "python3"
  },
  "language_info": {
   "codemirror_mode": {
    "name": "ipython",
    "version": 3
   },
   "file_extension": ".py",
   "mimetype": "text/x-python",
   "name": "python",
   "nbconvert_exporter": "python",
   "pygments_lexer": "ipython3",
   "version": "3.10.16"
  }
 },
 "nbformat": 4,
 "nbformat_minor": 5
}
