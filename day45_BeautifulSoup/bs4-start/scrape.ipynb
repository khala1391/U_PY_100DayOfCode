{
 "cells": [
  {
   "cell_type": "code",
   "execution_count": 7,
   "id": "5b248a53",
   "metadata": {},
   "outputs": [
    {
     "name": "stdout",
     "output_type": "stream",
     "text": [
      "<!DOCTYPE html>\n",
      "<html>\n",
      " <head>\n",
      "  <meta charset=\"utf-8\"/>\n",
      "  <title>\n",
      "   Angela's Personal Site\n",
      "  </title>\n",
      " </head>\n",
      " <body>\n",
      "  <h1 id=\"name\">\n",
      "   Angela Yu\n",
      "  </h1>\n",
      "  <p>\n",
      "   <em>\n",
      "    Founder of\n",
      "    <strong>\n",
      "     <a href=\"https://www.appbrewery.co/\">\n",
      "      The App Brewery\n",
      "     </a>\n",
      "    </strong>\n",
      "    .\n",
      "   </em>\n",
      "  </p>\n",
      "  <p>\n",
      "   I am an iOS and Web Developer. I love coffee and motorcycles.\n",
      "  </p>\n",
      "  <hr/>\n",
      "  <h3 class=\"heading\">\n",
      "   Books and Teaching\n",
      "  </h3>\n",
      "  <ul>\n",
      "   <li>\n",
      "    The Complete iOS App Development Bootcamp\n",
      "   </li>\n",
      "   <li>\n",
      "    The Complete Web Development Bootcamp\n",
      "   </li>\n",
      "   <li>\n",
      "    100 Days of Code - The Complete Python Bootcamp\n",
      "   </li>\n",
      "  </ul>\n",
      "  <hr/>\n",
      "  <h3 class=\"heading\">\n",
      "   Other Pages\n",
      "  </h3>\n",
      "  <a href=\"https://angelabauer.github.io/cv/hobbies.html\">\n",
      "   My Hobbies\n",
      "  </a>\n",
      "  <a href=\"https://angelabauer.github.io/cv/contact-me.html\">\n",
      "   Contact Me\n",
      "  </a>\n",
      " </body>\n",
      "</html>\n",
      "\n"
     ]
    }
   ],
   "source": [
    "import requests\n",
    "import time\n",
    "\n",
    "import pandas as pd\n",
    "from bs4 import BeautifulSoup\n",
    "\n",
    "# url = 'website.html'  # for active web\n",
    "\n",
    "# r =requests.get(url)\n",
    "# print(r.status_code)\n",
    "\n",
    "with open('website.html', mode='r', encoding ='utf-8') as f:\n",
    "    data= f.read()\n",
    "\n",
    "\n",
    "soup = BeautifulSoup(data, 'lxml')\n",
    "print(soup.prettify())"
   ]
  },
  {
   "cell_type": "code",
   "execution_count": 11,
   "id": "5c7b70f9",
   "metadata": {},
   "outputs": [
    {
     "data": {
      "text/plain": [
       "['The Complete iOS App Development Bootcamp',\n",
       " 'The Complete Web Development Bootcamp',\n",
       " '100 Days of Code - The Complete Python Bootcamp']"
      ]
     },
     "execution_count": 11,
     "metadata": {},
     "output_type": "execute_result"
    }
   ],
   "source": [
    "data = soup.find_all(\"li\")\n",
    "text_list = [_.get_text(strip=True) for _ in data]\n",
    "text_list"
   ]
  },
  {
   "cell_type": "code",
   "execution_count": 12,
   "id": "ade7b5cf",
   "metadata": {},
   "outputs": [
    {
     "data": {
      "text/plain": [
       "['https://www.appbrewery.co/',\n",
       " 'https://angelabauer.github.io/cv/hobbies.html',\n",
       " 'https://angelabauer.github.io/cv/contact-me.html']"
      ]
     },
     "execution_count": 12,
     "metadata": {},
     "output_type": "execute_result"
    }
   ],
   "source": [
    "links = soup.find_all(\"a\")\n",
    "links_list = [link.get('href') for link in links]\n",
    "links_list"
   ]
  }
 ],
 "metadata": {
  "kernelspec": {
   "display_name": "scrap",
   "language": "python",
   "name": "python3"
  },
  "language_info": {
   "codemirror_mode": {
    "name": "ipython",
    "version": 3
   },
   "file_extension": ".py",
   "mimetype": "text/x-python",
   "name": "python",
   "nbconvert_exporter": "python",
   "pygments_lexer": "ipython3",
   "version": "3.10.16"
  }
 },
 "nbformat": 4,
 "nbformat_minor": 5
}
