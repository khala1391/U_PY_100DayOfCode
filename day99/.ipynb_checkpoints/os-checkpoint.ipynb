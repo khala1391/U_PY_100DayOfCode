{
 "cells": [
  {
   "cell_type": "code",
   "execution_count": 1,
   "metadata": {},
   "outputs": [
    {
     "data": {
      "text/plain": [
       "'c:\\\\Users\\\\khala\\\\OneDrive\\\\MyDoc\\\\Documents\\\\000_DataScience\\\\02_PY\\\\U_PY_100DayOfCode\\\\day99'"
      ]
     },
     "execution_count": 1,
     "metadata": {},
     "output_type": "execute_result"
    }
   ],
   "source": [
    "import os\n",
    "os.getcwd()"
   ]
  },
  {
   "cell_type": "code",
   "execution_count": 2,
   "metadata": {},
   "outputs": [
    {
     "data": {
      "text/plain": [
       "['file_without_index.csv',\n",
       " 'file_with_custom_index_label.csv',\n",
       " 'file_with_index_and_label.csv',\n",
       " 'file_with_index_and_no_label.csv',\n",
       " 'os.ipynb']"
      ]
     },
     "execution_count": 2,
     "metadata": {},
     "output_type": "execute_result"
    }
   ],
   "source": [
    "os.listdir()"
   ]
  },
  {
   "cell_type": "code",
   "execution_count": 10,
   "metadata": {},
   "outputs": [
    {
     "data": {
      "text/plain": [
       "['file_without_index.csv',\n",
       " 'file_with_custom_index_label.csv',\n",
       " 'file_with_index_and_label.csv',\n",
       " 'file_with_index_and_no_label.csv',\n",
       " 'os.ipynb']"
      ]
     },
     "execution_count": 10,
     "metadata": {},
     "output_type": "execute_result"
    }
   ],
   "source": [
    "os.listdir('./')"
   ]
  },
  {
   "cell_type": "code",
   "execution_count": 6,
   "metadata": {},
   "outputs": [
    {
     "data": {
      "text/plain": [
       "['main.py', 'spotify_charts.json']"
      ]
     },
     "execution_count": 6,
     "metadata": {},
     "output_type": "execute_result"
    }
   ],
   "source": [
    "path = '../day31/'\n",
    "os.listdir(path)"
   ]
  },
  {
   "cell_type": "code",
   "execution_count": 7,
   "metadata": {},
   "outputs": [
    {
     "name": "stdout",
     "output_type": "stream",
     "text": [
      "['day00', 'day01', 'day02', 'day03', 'day04', 'day05', 'day06', 'day07', 'day08', 'day09', 'day10', 'day11', 'day12', 'day13', 'day14', 'day15', 'day16', 'day17', 'day18', 'day19', 'day20', 'day22', 'day23', 'day24', 'day25', 'day26', 'day27', 'day28', 'day29', 'day30', 'day31', 'day32', 'day33']\n"
     ]
    }
   ],
   "source": [
    "os.listdir()\n",
    "list_name_day = [name for name in os.listdir() if name.startswith('day')]\n",
    "print(list_name_day)"
   ]
  },
  {
   "cell_type": "code",
   "execution_count": 7,
   "metadata": {},
   "outputs": [
    {
     "name": "stdout",
     "output_type": "stream",
     "text": [
      "day30\\dict_file.txt\n"
     ]
    }
   ],
   "source": [
    "# day30\\dict_file.txt\n",
    "\n",
    "folder = \"day30\"\n",
    "filename = \"dict_file.txt\"\n",
    "\n",
    "file_path = os.path.join(folder,filename)\n",
    "print(file_path)"
   ]
  },
  {
   "cell_type": "code",
   "execution_count": 41,
   "metadata": {},
   "outputs": [
    {
     "name": "stdout",
     "output_type": "stream",
     "text": [
      "result_03/dict_file.txt\n"
     ]
    }
   ],
   "source": [
    "subfolder = \"result_03\"\n",
    "filename = f\"{subfolder}/dict_file.txt\"\n",
    "\n",
    "print(filename)"
   ]
  },
  {
   "cell_type": "code",
   "execution_count": 8,
   "metadata": {},
   "outputs": [
    {
     "data": {
      "text/plain": [
       "'c:\\\\Users\\\\khala\\\\OneDrive\\\\MyDoc\\\\Documents\\\\000_DataScience\\\\02_PY\\\\U_PY_100DayOfCode\\\\day99\\\\day30\\\\dict_file.txt'"
      ]
     },
     "execution_count": 8,
     "metadata": {},
     "output_type": "execute_result"
    }
   ],
   "source": [
    "rel_path = \"day30/dict_file.txt\"\n",
    "abs_path = os.path.abspath(rel_path)\n",
    "abs_path"
   ]
  },
  {
   "cell_type": "code",
   "execution_count": 13,
   "metadata": {},
   "outputs": [
    {
     "name": "stdout",
     "output_type": "stream",
     "text": [
      "EXIST\n"
     ]
    }
   ],
   "source": [
    "file_path = '../day30/dict_file.txt'\n",
    "\n",
    "if os.path.exists(file_path):\n",
    "    print(\"EXIST\")\n",
    "\n",
    "else:\n",
    "    print(\"not exist\")"
   ]
  },
  {
   "cell_type": "code",
   "execution_count": 14,
   "metadata": {},
   "outputs": [
    {
     "name": "stdout",
     "output_type": "stream",
     "text": [
      "day30\\nato\n",
      "nato_phonetic_alphabet.csv\n"
     ]
    }
   ],
   "source": [
    "# day30\\nato\\nato_phonetic_alphabet.csv\n",
    "\n",
    "# path ='day30/nato/nato_phonetic_alphabet.csv'\n",
    "path =r'day30\\nato\\nato_phonetic_alphabet.csv'\n",
    "\n",
    "directory,  file_name = os.path.split(path)\n",
    "print(directory)\n",
    "print(file_name)"
   ]
  },
  {
   "cell_type": "code",
   "execution_count": null,
   "metadata": {},
   "outputs": [],
   "source": [
    "os.makedirs('day99', exist_ok=True)"
   ]
  },
  {
   "cell_type": "code",
   "execution_count": 17,
   "metadata": {},
   "outputs": [
    {
     "name": "stdout",
     "output_type": "stream",
     "text": [
      "nato_phonetic_alphabet\n",
      ".csv\n"
     ]
    }
   ],
   "source": [
    "file_name = file_name\n",
    "name, ext = os.path.splitext(file_name)\n",
    "print(name)\n",
    "print(ext)"
   ]
  },
  {
   "cell_type": "code",
   "execution_count": 29,
   "metadata": {},
   "outputs": [
    {
     "name": "stdout",
     "output_type": "stream",
     "text": [
      "day30\\nato\\nato_phonetic_alphabet.csv\n"
     ]
    }
   ],
   "source": [
    "path = \"day30/nato/nato_phonetic_alphabet.csv\"\n",
    "normalized_path = os.path.normpath(path)\n",
    "print(normalized_path)"
   ]
  },
  {
   "cell_type": "code",
   "execution_count": 30,
   "metadata": {},
   "outputs": [
    {
     "name": "stdout",
     "output_type": "stream",
     "text": [
      "day30\\nato\\nato_phonetic_alphabet.csv\n"
     ]
    }
   ],
   "source": [
    "path = \"day30//nato//nato_phonetic_alphabet.csv\"\n",
    "normalized_path = os.path.normpath(path)\n",
    "print(normalized_path)"
   ]
  },
  {
   "cell_type": "code",
   "execution_count": 32,
   "metadata": {},
   "outputs": [
    {
     "name": "stdout",
     "output_type": "stream",
     "text": [
      "day30\\nato\\nato_phonetic_alphabet.csv\n"
     ]
    }
   ],
   "source": [
    "path = \"day30\\\\nato\\\\nato_phonetic_alphabet.csv\"\n",
    "normalized_path = os.path.normpath(path)\n",
    "print(normalized_path)"
   ]
  },
  {
   "cell_type": "code",
   "execution_count": 33,
   "metadata": {},
   "outputs": [
    {
     "data": {
      "text/plain": [
       "'day30/nato'"
      ]
     },
     "execution_count": 33,
     "metadata": {},
     "output_type": "execute_result"
    }
   ],
   "source": [
    "path = \"day30/nato/nato_phonetic_alphabet.csv\"\n",
    "path_directory = os.path.dirname(path)\n",
    "path_directory"
   ]
  },
  {
   "cell_type": "markdown",
   "metadata": {},
   "source": [
    "### to_csv"
   ]
  },
  {
   "cell_type": "code",
   "execution_count": 18,
   "metadata": {},
   "outputs": [],
   "source": [
    "import pandas as pd\n",
    "\n",
    "# Sample DataFrame\n",
    "data = {'Name': ['Alice', 'Bob'], 'Age': [25, 30]}\n",
    "df = pd.DataFrame(data)\n",
    "\n",
    "# Export to CSV without the index\n",
    "df.to_csv('file_without_index.csv', index=False)\n"
   ]
  },
  {
   "cell_type": "code",
   "execution_count": 39,
   "metadata": {},
   "outputs": [],
   "source": [
    "import pandas as pd\n",
    "\n",
    "# Sample DataFrame\n",
    "data = {'Name': ['Alice', 'Bob'], 'Age': [25, 30]}\n",
    "df = pd.DataFrame(data)\n",
    "\n",
    "# Export to CSV with the index and a custom index label\n",
    "df.to_csv('file_with_index_and_no_label.csv', index=True, index_label=False)\n"
   ]
  },
  {
   "cell_type": "code",
   "execution_count": 35,
   "metadata": {},
   "outputs": [],
   "source": [
    "import pandas as pd\n",
    "\n",
    "# Sample DataFrame\n",
    "data = {'Name': ['Alice', 'Bob'], 'Age': [25, 30]}\n",
    "df = pd.DataFrame(data)\n",
    "\n",
    "# Export to CSV with the index and a custom index label\n",
    "df.to_csv('file_with_custom_index_label.csv', index=True, index_label='CustomIndex')\n"
   ]
  },
  {
   "cell_type": "code",
   "execution_count": null,
   "metadata": {},
   "outputs": [],
   "source": [
    "import pandas as pd\n",
    "\n",
    "# Sample DataFrame\n",
    "data = {'Name': ['Alice', 'Bob'], 'Age': [25, 30]}\n",
    "df = pd.DataFrame(data)\n",
    "\n",
    "# Export to CSV with the index and a custom index label\n",
    "df.to_csv('file_with_index_and_no_label.csv', index=True, index_label=False)\n"
   ]
  }
 ],
 "metadata": {
  "kernelspec": {
   "display_name": "base",
   "language": "python",
   "name": "python3"
  },
  "language_info": {
   "codemirror_mode": {
    "name": "ipython",
    "version": 3
   },
   "file_extension": ".py",
   "mimetype": "text/x-python",
   "name": "python",
   "nbconvert_exporter": "python",
   "pygments_lexer": "ipython3",
   "version": "3.11.9"
  }
 },
 "nbformat": 4,
 "nbformat_minor": 2
}
